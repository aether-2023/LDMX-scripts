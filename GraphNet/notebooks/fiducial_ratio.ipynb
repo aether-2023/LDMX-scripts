{
 "cells": [
  {
   "cell_type": "code",
   "execution_count": 1,
   "id": "fc0b1130-0d7b-4931-bbd6-4a4c12f31c99",
   "metadata": {},
   "outputs": [],
   "source": [
    "import numpy as np\n",
    "import matplotlib.pyplot as plt\n",
    "import uproot"
   ]
  },
  {
   "cell_type": "code",
   "execution_count": 90,
   "id": "1788bbdf-6959-4b3e-9a64-34f1db679f2b",
   "metadata": {},
   "outputs": [],
   "source": [
    "# Constants for the fiducial cut calculations\n",
    "scoringPlaneZ = 239.9985\n",
    "ecalFaceZ = 247.932\n",
    "cell_radius = 5.0\n",
    "\n",
    "# Project the recoil coordinates from the scoring plane to the ecal face.\n",
    "def projection(Recoilx, Recoily, Recoilz, RPx, RPy, RPz, HitZ):\n",
    "    x_final = Recoilx + RPx / RPz * (HitZ - Recoilz) if RPz != 0 else 0\n",
    "    y_final = Recoily + RPy / RPz * (HitZ - Recoilz) if RPy != 0 else 0\n",
    "    return (x_final, y_final)\n",
    "\n",
    "# Calculate the Euclidean distance between two points.\n",
    "def dist(cell, point):\n",
    "    return np.sqrt((cell[0] - point[0])**2 + (cell[1] - point[1])**2)\n",
    "\n",
    "# Load cell map from file.\n",
    "def load_cellMap(filepath):\n",
    "    cellMap = np.genfromtxt(filepath, dtype={'names': ('x', 'y', 'id'), 'formats': ('f4', 'f4', 'i4')}, usecols=[1,2,0])\n",
    "    print(f\"Loaded detector info from {filepath}\")\n",
    "    return cellMap\n",
    "\n",
    "# Calculate indices of recoil electron for all events\n",
    "def find_recoil_electron(pdgID, pz):\n",
    "    # Initialize indices as -1 (not found or conditions not met)\n",
    "    r_electron = np.full(len(pdgID), -1, dtype=int)\n",
    "    \n",
    "    # Iterate over each event\n",
    "    for i in range(len(pdgID)):\n",
    "        # Find indices where particle ID is 11 (electron)\n",
    "        electron_indices = np.where(pdgID[i] == 11)[0]\n",
    "        \n",
    "        # If no electrons or all pz values are zero, continue\n",
    "        if len(electron_indices) == 0 or np.all(pz[i][electron_indices] == 0):\n",
    "            continue\n",
    "        \n",
    "        # Find the index with the maximum pz among electrons\n",
    "        # This step filters out all pz == 0 automatically since they can't be the maximum if there's any non-zero pz\n",
    "        max_pz_index = electron_indices[np.argmax(pz[i][electron_indices])]\n",
    "        \n",
    "        # Set the recoil electron index for this event\n",
    "        r_electron[i] = max_pz_index\n",
    "    \n",
    "    return r_electron\n",
    "    \n",
    "# Apply the fiducial cut to the given recoil data.\n",
    "def apply_fiducial_cut(recoilX, recoilY, recoilZ, recoilPx, recoilPy, recoilPz, recoilElectron, cells):\n",
    "    N = len(recoilElectron)\n",
    "    f_cut = np.zeros(N, dtype=bool)\n",
    "    for i in range(N):\n",
    "        fiducial = False\n",
    "        recoil_i = recoilElectron[i]\n",
    "        if recoil_i != -1:\n",
    "            fXY = projection(recoilX[i][recoil_i], recoilY[i][recoil_i], recoilZ[i][recoil_i], \n",
    "                             recoilPx[i][recoil_i], recoilPy[i][recoil_i], recoilPz[i][recoil_i], ecalFaceZ)\n",
    "            # if not all(val == -9999 for val in [recoilX[i][recoil_i], recoilY[i][recoil_i], recoilZ[i][recoil_i], \n",
    "            #                                     recoilPx[i][recoil_i], recoilPy[i][recoil_i], recoilPz[i][recoil_i]]):\n",
    "            for cell in cells:\n",
    "                if dist(cell, fXY) <= cell_radius:\n",
    "                    fiducial = True\n",
    "                    # print(cell)\n",
    "                    break\n",
    "        f_cut[i] = fiducial\n",
    "    return f_cut"
   ]
  },
  {
   "cell_type": "code",
   "execution_count": 103,
   "id": "6716e876-8b3c-406b-94a1-8717e138ac0a",
   "metadata": {
    "scrolled": true
   },
   "outputs": [
    {
     "name": "stdout",
     "output_type": "stream",
     "text": [
      "Loaded detector info from /home/j3lly/LDMX-scripts/GraphNet/data/v14/cellmodule.txt\n"
     ]
    }
   ],
   "source": [
    "# Load cell information\n",
    "cells = load_cellMap('/home/j3lly/LDMX-scripts/GraphNet/data/v14/cellmodule.txt')\n",
    "\n",
    "# Path to the ROOT file\n",
    "# file_path = '/home/vamitamas/NonFiducialSimu/events_nonfiducial_fullEcal_production.root'\n",
    "# file_path = '/mnt/d/Repositories/rootfiles/Processed8GeV/v14_8gev_0.1_XCal_total_40.root'\n",
    "file_path = '/mnt/d/Repositories/rootfiles/Samples8GeV/Ap0.001GeV_sim/mc_v14-8gev-8.0GeV-1e-signal_W_noDecay_sim_run10059_t1699049052.root'"
   ]
  },
  {
   "cell_type": "code",
   "execution_count": 104,
   "id": "353c5a81-e175-4fa7-afbf-2587090d974f",
   "metadata": {},
   "outputs": [],
   "source": [
    "# Open the ROOT file and load branches\n",
    "with uproot.open(file_path) as file:\n",
    "    tree = file[\"LDMX_Events\"]\n",
    "    leaf_pdgID = tree['TargetScoringPlaneHits_signal.pdgID_'].array(library='np')\n",
    "    leaf_x = tree['TargetScoringPlaneHits_signal.x_'].array(library='np')\n",
    "    leaf_y = tree['TargetScoringPlaneHits_signal.y_'].array(library='np')\n",
    "    leaf_z = tree['TargetScoringPlaneHits_signal.z_'].array(library='np')\n",
    "    leaf_px = tree['TargetScoringPlaneHits_signal.px_'].array(library='np')\n",
    "    leaf_py = tree['TargetScoringPlaneHits_signal.py_'].array(library='np')\n",
    "    leaf_pz = tree['TargetScoringPlaneHits_signal.pz_'].array(library='np')"
   ]
  },
  {
   "cell_type": "code",
   "execution_count": 105,
   "id": "b8cf4b82-6ef4-4aaa-bf66-54dd33f0575d",
   "metadata": {},
   "outputs": [],
   "source": [
    "recoilElectron = find_recoil_electron(leaf_pdgID, leaf_pz)"
   ]
  },
  {
   "cell_type": "code",
   "execution_count": 106,
   "id": "52cb7c8c-2bb1-4029-8137-023597d957c6",
   "metadata": {},
   "outputs": [],
   "source": [
    "# Apply the fiducial cut\n",
    "f_cut = apply_fiducial_cut(leaf_x, leaf_y, leaf_z, leaf_px, leaf_py, leaf_pz, recoilElectron, cells)"
   ]
  },
  {
   "cell_type": "code",
   "execution_count": 107,
   "id": "3ad2af86-d48b-414d-988a-0e9f23e71a3c",
   "metadata": {},
   "outputs": [
    {
     "name": "stdout",
     "output_type": "stream",
     "text": [
      "Total Events: 20000\n",
      "Electron Events: 20000\n",
      "Fiducial Events: 20000\n",
      "Non-Fiducial Events: 0\n",
      "Non-Fiducial/Fiducial Events Ratio: 0.0000\n"
     ]
    }
   ],
   "source": [
    "# Calculate and print statistics\n",
    "fiducial_events = np.sum(f_cut)\n",
    "valid_events = np.count_nonzero(recoilElectron != -1)\n",
    "total_events = len(f_cut)\n",
    "non_fid_events = valid_events-fiducial_events\n",
    "ratio = non_fid_events / fiducial_events\n",
    "print(f\"Total Events: {total_events}\")\n",
    "print(f\"Electron Events: {valid_events}\")\n",
    "print(f\"Fiducial Events: {fiducial_events}\")\n",
    "print(f\"Non-Fiducial Events: {non_fid_events}\")\n",
    "print(f\"Non-Fiducial/Fiducial Events Ratio: {ratio:.4f}\")"
   ]
  },
  {
   "cell_type": "code",
   "execution_count": 108,
   "id": "f467d609-e3f0-43a0-915e-e2f172aaac47",
   "metadata": {},
   "outputs": [],
   "source": [
    "# # Plotting the histogram of fiducial vs non-fiducial events\n",
    "# plt.hist(f_cut.astype(int), bins=[-0.5, 0.5, 1.5], rwidth=0.8) # label=['Non-Fiducial', 'Fiducial'])\n",
    "# plt.xticks([0, 1], ['Non-Fiducial', 'Fiducial'])\n",
    "# plt.xlabel('Event Type')\n",
    "# plt.ylabel('Number of Events')\n",
    "# plt.title('Fiducial vs Non-Fiducial Events')\n",
    "# # plt.legend()\n",
    "# plt.show()"
   ]
  },
  {
   "cell_type": "code",
   "execution_count": null,
   "id": "0a246806-6e58-45db-9f83-e6fe20529014",
   "metadata": {},
   "outputs": [],
   "source": []
  },
  {
   "cell_type": "code",
   "execution_count": 56,
   "id": "6316e131-1ef0-4a41-82a9-8301f214807c",
   "metadata": {},
   "outputs": [],
   "source": [
    "test_arr = np.zeros(3, dtype=int)"
   ]
  },
  {
   "cell_type": "code",
   "execution_count": 68,
   "id": "a444e173-fbca-4a58-af6c-05575c64941f",
   "metadata": {},
   "outputs": [],
   "source": [
    "test_arr[1]=-1"
   ]
  },
  {
   "cell_type": "code",
   "execution_count": 69,
   "id": "ac7fd276-0044-49bb-a68c-004b9338bdcd",
   "metadata": {},
   "outputs": [
    {
     "data": {
      "text/plain": [
       "array([ 0, -1,  1])"
      ]
     },
     "execution_count": 69,
     "metadata": {},
     "output_type": "execute_result"
    }
   ],
   "source": [
    "test_arr"
   ]
  },
  {
   "cell_type": "code",
   "execution_count": 71,
   "id": "7b63c72a-e3a0-4182-b0ab-05d8d17189be",
   "metadata": {},
   "outputs": [
    {
     "name": "stdout",
     "output_type": "stream",
     "text": [
      "Recoil indices: [ 2 -1 -1]\n"
     ]
    }
   ],
   "source": [
    "import numpy as np\n",
    "\n",
    "def find_recoil_electron(pdgID, pz):\n",
    "    # Initialize indices as -1 (not found or conditions not met)\n",
    "    r_electron = np.full(len(pdgID), -1, dtype=int)\n",
    "    \n",
    "    # Iterate over each event\n",
    "    for i in range(len(pdgID)):\n",
    "        # Find indices where particle ID is 11 (electron)\n",
    "        electron_indices = np.where(pdgID[i] == 11)[0]\n",
    "        \n",
    "        # If no electrons or all pz values are zero, continue\n",
    "        if len(electron_indices) == 0 or np.all(pz[i][electron_indices] == 0):\n",
    "            continue\n",
    "        \n",
    "        # Find the index with the maximum pz among electrons\n",
    "        # This step filters out all pz == 0 automatically since they can't be the maximum if there's any non-zero pz\n",
    "        max_pz_index = electron_indices[np.argmax(pz[i][electron_indices])]\n",
    "        \n",
    "        # Set the recoil electron index for this event\n",
    "        r_electron[i] = max_pz_index\n",
    "    \n",
    "    return r_electron\n",
    "\n",
    "# Example data\n",
    "pdgID = [np.array([11, 22, 11]), np.array([11, 11]), np.array([22])]\n",
    "pz = [np.array([1.2, 4, 2.3]), np.array([0.0, 0.0]), np.array([0.0])]\n",
    "\n",
    "# Find the recoil electrons\n",
    "recoil_indices = find_recoil_electron(pdgID, pz)\n",
    "print(\"Recoil indices:\", recoil_indices)\n"
   ]
  },
  {
   "cell_type": "code",
   "execution_count": 86,
   "id": "7a834271-573f-48ec-bc43-858627d1f8a5",
   "metadata": {},
   "outputs": [],
   "source": [
    "if 0:\n",
    "    print(1)"
   ]
  },
  {
   "cell_type": "code",
   "execution_count": null,
   "id": "388f2a0c-1070-4dfc-b406-fd431884d5e4",
   "metadata": {},
   "outputs": [],
   "source": []
  }
 ],
 "metadata": {
  "kernelspec": {
   "display_name": "Python 3 (ipykernel)",
   "language": "python",
   "name": "python3"
  },
  "language_info": {
   "codemirror_mode": {
    "name": "ipython",
    "version": 3
   },
   "file_extension": ".py",
   "mimetype": "text/x-python",
   "name": "python",
   "nbconvert_exporter": "python",
   "pygments_lexer": "ipython3",
   "version": "3.11.7"
  }
 },
 "nbformat": 4,
 "nbformat_minor": 5
}

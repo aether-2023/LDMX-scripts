{
 "cells": [
  {
   "cell_type": "code",
   "execution_count": 102,
   "id": "fc0b1130-0d7b-4931-bbd6-4a4c12f31c99",
   "metadata": {},
   "outputs": [],
   "source": [
    "from scipy.spatial import cKDTree\n",
    "import numpy as np\n",
    "import awkward as ak\n",
    "import matplotlib.pyplot as plt\n",
    "import uproot"
   ]
  },
  {
   "cell_type": "markdown",
   "id": "223d482f-0858-432a-a77a-2174ea8ea12c",
   "metadata": {},
   "source": [
    "## Fiducial check for a single .root file"
   ]
  },
  {
   "cell_type": "code",
   "execution_count": 103,
   "id": "65eca9fb-45c4-4666-ae76-d22d780dae4e",
   "metadata": {},
   "outputs": [],
   "source": [
    "# Constants for the fiducial cut calculations\n",
    "scoringPlaneZ = 239.9985\n",
    "ecalFaceZ = 247.932\n",
    "cell_radius = 5.0\n",
    "\n",
    "# Project the recoil coordinates from the scoring plane to the ecal face\n",
    "def projection(Recoilx, Recoily, Recoilz, RPx, RPy, RPz, HitZ):\n",
    "    x_final = Recoilx + RPx / RPz * (HitZ - Recoilz) if RPz != 0 else 0\n",
    "    y_final = Recoily + RPy / RPz * (HitZ - Recoilz) if RPy != 0 else 0\n",
    "    return (x_final, y_final)\n",
    "\n",
    "# Calculate the Euclidean distance between two points\n",
    "def dist(cell, point):\n",
    "    return np.sqrt((cell[0] - point[0])**2 + (cell[1] - point[1])**2)\n",
    "\n",
    "# Load cell map from file\n",
    "def load_cell_map(filepath):\n",
    "    cellMap = np.genfromtxt(filepath, dtype={'names': ('x', 'y', 'id'), 'formats': ('f4', 'f4', 'i4')}, usecols=[1,2,0])\n",
    "    print(f\"Loaded detector info from {filepath}\")\n",
    "    # Convert structured array to a regular 2D numpy array\n",
    "    cell_coordinates = np.vstack((cellMap['x'], cellMap['y'])).T\n",
    "    # Construct KD-Tree with the coordinates array\n",
    "    cell_tree = cKDTree(cell_coordinates)\n",
    "    return cell_tree\n",
    "    return cell_tree\n",
    "\n",
    "# Apply projection check, oncell for fiducial and offcell for non-fiducial\n",
    "def check_projection(recoilX, recoilY, recoilZ, recoilPx, recoilPy, recoilPz, recoilElectron, cell_tree):\n",
    "    valid_indices = np.where(recoilElectron != -1)[0]\n",
    "    # Compute all projections at once if possible\n",
    "    projections = np.array([projection(recoilX[idx][recoilElectron[idx]], recoilY[idx][recoilElectron[idx]], recoilZ[idx][recoilElectron[idx]], \n",
    "                                        recoilPx[idx][recoilElectron[idx]], recoilPy[idx][recoilElectron[idx]], recoilPz[idx][recoilElectron[idx]], ecalFaceZ) \n",
    "                            for idx in valid_indices])\n",
    "    \n",
    "    oncell_cut = np.zeros_like(recoilElectron, dtype=bool)\n",
    "\n",
    "    # Spatial check using KD-Tree\n",
    "    for idx, proj in zip(valid_indices, projections):\n",
    "        if cell_tree.query_ball_point(proj, cell_radius):\n",
    "            oncell_cut[idx] = True\n",
    "\n",
    "    # Output results and return the cut array\n",
    "    oncell_events = np.sum(oncell_cut)\n",
    "    offcell_events = len(valid_indices) - oncell_events\n",
    "    off_on_ratio = offcell_events / oncell_events if oncell_events > 0 else float('inf')\n",
    "    \n",
    "    print(f'oncell recoil electron: {oncell_events}')\n",
    "    print(f'offcell recoil electron: {offcell_events}')\n",
    "    print(f'offcell to oncell ratio: {off_on_ratio}')\n",
    "    \n",
    "    return oncell_cut"
   ]
  },
  {
   "cell_type": "code",
   "execution_count": 104,
   "id": "d2ca2419-4010-4edf-a771-58fe47ec65af",
   "metadata": {},
   "outputs": [],
   "source": [
    "# Skim target scoring plane data for valid events, where recoil electrons exist\n",
    "def skim_tsp_events(pdgID, z, pz):\n",
    "    r_electron = np.full(len(pdgID), -1, dtype=int)\n",
    "    no_electron = 0\n",
    "    no_valid_z = 0\n",
    "    no_valid_pz = 0\n",
    "    # Loop through all events for recoil check\n",
    "    for i in range(len(pdgID)):\n",
    "        # Find indices where particle ID is 11 (electron)\n",
    "        electron_indices = np.where(pdgID[i] == 11)[0]\n",
    "        # Skip electron-less events\n",
    "        if len(electron_indices) == 0:\n",
    "            no_electron += 1\n",
    "            continue\n",
    "        # Find electron hits on interested position range\n",
    "        valid_tsp_z = []\n",
    "        for j in electron_indices:\n",
    "            if z[i][j]>0.1 and z[i][j]<0.2:\n",
    "                valid_tsp_z.append(j)\n",
    "        # Skip out-range events\n",
    "        if len(valid_tsp_z) == 0:\n",
    "            no_valid_z += 1\n",
    "            continue\n",
    "        # Find recoil electron, which has maximum pz among all electrons in the event\n",
    "        pz_max = valid_tsp_z[0]\n",
    "        for k in valid_tsp_z:\n",
    "            if pz[i][k]>pz[i][pz_max]:\n",
    "                pz_max = k\n",
    "        # Skip irregular events\n",
    "        if pz[i][pz_max] == 0 or pz[i][pz_max] == -9999:\n",
    "            no_valid_pz += 1\n",
    "            continue\n",
    "        r_electron[i] = pz_max\n",
    "    # Print results and return the recoil array\n",
    "    total_events = len(pdgID)\n",
    "    valid_events = len(np.where(r_electron != -1)[0])\n",
    "    num_validation = (no_electron+no_valid_z+no_valid_pz+valid_events) == len(pdgID)\n",
    "    print('total events: {}'.format(total_events))\n",
    "    print('- no-electron events: {}'.format(no_electron))\n",
    "    print('- invalid-z events: {}'.format(no_valid_z))\n",
    "    print('- invalid-pz events: {}'.format(no_valid_pz))\n",
    "    print('+ valid events: {}'.format(valid_events))\n",
    "    print('validation: {}'.format(num_validation))\n",
    "    return r_electron"
   ]
  },
  {
   "cell_type": "code",
   "execution_count": 105,
   "id": "2d3f6176-dc6d-4d12-957e-588525f64088",
   "metadata": {},
   "outputs": [],
   "source": [
    "# Skim ecal scoring plane data for valid events, where recoil electrons exist\n",
    "def skim_esp_events(pdgID, z, pz):\n",
    "    r_electron = np.full(len(pdgID), -1, dtype=int)\n",
    "    no_electron = 0\n",
    "    no_valid_z = 0\n",
    "    no_valid_pz = 0\n",
    "    # Loop through all events for recoil check\n",
    "    for i in range(len(pdgID)):\n",
    "        # Find indices where particle ID is 11 (electron)\n",
    "        electron_indices = np.where(pdgID[i] == 11)[0]\n",
    "        # Skip electron-less events\n",
    "        if len(electron_indices) == 0:\n",
    "            no_electron += 1\n",
    "            continue\n",
    "        # Find electron hits on interested position range\n",
    "        valid_esp_z = []\n",
    "        for j in electron_indices:\n",
    "            if z[i][j]>239 and z[i][j]<240:\n",
    "                valid_esp_z.append(j)\n",
    "        # Skip out-range events\n",
    "        if len(valid_esp_z) == 0:\n",
    "            no_valid_z += 1\n",
    "            continue\n",
    "        # Find recoil electron, which has maximum pz among all electrons in the event\n",
    "        pz_max = valid_esp_z[0]\n",
    "        for k in valid_esp_z:\n",
    "            if pz[i][k]>pz[i][pz_max]:\n",
    "                pz_max = k\n",
    "        # Skip irregular events\n",
    "        if pz[i][pz_max] == 0 or pz[i][pz_max] == -9999:\n",
    "            no_valid_pz += 1\n",
    "            continue\n",
    "        r_electron[i] = pz_max\n",
    "    # Print results and return the recoil array\n",
    "    total_events = len(pdgID)\n",
    "    valid_events = len(np.where(r_electron != -1)[0])\n",
    "    num_validation = (no_electron+no_valid_z+no_valid_pz+valid_events) == len(pdgID)\n",
    "    print('total events: {}'.format(total_events))\n",
    "    print('- no-electron events: {}'.format(no_electron))\n",
    "    print('- invalid-z events: {}'.format(no_valid_z))\n",
    "    print('- invalid-pz events: {}'.format(no_valid_pz))\n",
    "    print('+ valid events: {}'.format(valid_events))\n",
    "    print('validation: {}'.format(num_validation))\n",
    "    return r_electron"
   ]
  },
  {
   "cell_type": "markdown",
   "id": "e16f414e-8e78-4136-afde-d0a8a5abbf83",
   "metadata": {},
   "source": [
    "### Load leaves"
   ]
  },
  {
   "cell_type": "code",
   "execution_count": 106,
   "id": "6716e876-8b3c-406b-94a1-8717e138ac0a",
   "metadata": {
    "scrolled": true
   },
   "outputs": [
    {
     "name": "stdout",
     "output_type": "stream",
     "text": [
      "Loaded detector info from /home/aether_zhou_2023/LDMX-scripts/GraphNet/data/v14/cellmodule.txt\n"
     ]
    }
   ],
   "source": [
    "# Load cell information\n",
    "cells = load_cell_map('/home/aether_zhou_2023/LDMX-scripts/GraphNet/data/v14/cellmodule.txt')\n",
    "\n",
    "# Path to the ROOT file\n",
    "# file_path = '/home/vamitamas/NonFiducialSimu/events_nonfiducial_fullEcal_production.root'\n",
    "# file_path = '/mnt/d/Repositories/rootfiles/Processed8GeV/v14_8gev_0.1_XCal_total_40.root'\n",
    "# file_path = '/mnt/d/Repositories/rootfiles/Samples8GeV/Ap0.001GeV_sim/mc_v14-8gev-8.0GeV-1e-signal_W_noDecay_sim_run10059_t1699049052.root'\n",
    "# file_path = '/home/duncansw/GraphNet_input/v14/8gev/v3_tskim/XCal_total/v14_8gev_0.1_XCal_total_4.root'\n",
    "file_path = '/home/vamitamas/Samples8GeV/Ap1GeV_sim/mc_v14-8gev-8.0GeV-1e-signal_W_noDecay_sim_run10000227_t1699048086.root'"
   ]
  },
  {
   "cell_type": "code",
   "execution_count": 107,
   "id": "353c5a81-e175-4fa7-afbf-2587090d974f",
   "metadata": {},
   "outputs": [],
   "source": [
    "# Open the ROOT file and load branches\n",
    "with uproot.open(file_path)['LDMX_Events'] as tree:\n",
    "    esp_leaf_pdgID = tree['EcalScoringPlaneHits_signal.pdgID_'].array(library='np')\n",
    "    esp_leaf_x = tree['EcalScoringPlaneHits_signal.x_'].array(library='np')\n",
    "    esp_leaf_y = tree['EcalScoringPlaneHits_signal.y_'].array(library='np')\n",
    "    esp_leaf_z = tree['EcalScoringPlaneHits_signal.z_'].array(library='np')\n",
    "    esp_leaf_px = tree['EcalScoringPlaneHits_signal.px_'].array(library='np')\n",
    "    esp_leaf_py = tree['EcalScoringPlaneHits_signal.py_'].array(library='np')\n",
    "    esp_leaf_pz = tree['EcalScoringPlaneHits_signal.pz_'].array(library='np')"
   ]
  },
  {
   "cell_type": "code",
   "execution_count": 108,
   "id": "151db891-7264-4cc7-b88b-daebdb499749",
   "metadata": {},
   "outputs": [],
   "source": [
    "# Open the ROOT file and load branches\n",
    "with uproot.open(file_path)['LDMX_Events'] as tree:\n",
    "    tsp_leaf_pdgID = tree['TargetScoringPlaneHits_signal.pdgID_'].array(library='np')\n",
    "    tsp_leaf_x = tree['TargetScoringPlaneHits_signal.x_'].array(library='np')\n",
    "    tsp_leaf_y = tree['TargetScoringPlaneHits_signal.y_'].array(library='np')\n",
    "    tsp_leaf_z = tree['TargetScoringPlaneHits_signal.z_'].array(library='np')\n",
    "    tsp_leaf_px = tree['TargetScoringPlaneHits_signal.px_'].array(library='np')\n",
    "    tsp_leaf_py = tree['TargetScoringPlaneHits_signal.py_'].array(library='np')\n",
    "    tsp_leaf_pz = tree['TargetScoringPlaneHits_signal.pz_'].array(library='np')"
   ]
  },
  {
   "cell_type": "code",
   "execution_count": 109,
   "id": "2ccbbe2c-b86c-4265-a02d-6a8a802c052e",
   "metadata": {},
   "outputs": [],
   "source": [
    "# # Open the ROOT file and load branches\n",
    "# with uproot.open(file_path) as file:\n",
    "#     tree = file['skimmed_events']\n",
    "#     leaf_pdgID = tree['pdgID_tsp_'].array(library='np')\n",
    "#     leaf_x = tree['x_tsp_'].array(library='np')\n",
    "#     leaf_y = tree['y_tsp_'].array(library='np')\n",
    "#     leaf_z = tree['z_tsp_'].array(library='np')\n",
    "#     leaf_px = tree['px_tsp_'].array(library='np')\n",
    "#     leaf_py = tree['py_tsp_'].array(library='np')\n",
    "#     leaf_pz = tree['pz_tsp_'].array(library='np')"
   ]
  },
  {
   "cell_type": "code",
   "execution_count": null,
   "id": "b8cf4b82-6ef4-4aaa-bf66-54dd33f0575d",
   "metadata": {},
   "outputs": [],
   "source": []
  },
  {
   "cell_type": "markdown",
   "id": "1c953bd7-be0b-42f3-be16-d62bbfa42af6",
   "metadata": {},
   "source": [
    "### Apply check"
   ]
  },
  {
   "cell_type": "code",
   "execution_count": 110,
   "id": "a9ba4c6d-f060-4968-b38a-bf43b18a1737",
   "metadata": {},
   "outputs": [
    {
     "name": "stdout",
     "output_type": "stream",
     "text": [
      "ECal Scoring Plane\n",
      "total events: 20000\n",
      "- no-electron events: 753\n",
      "- invalid-z events: 9\n",
      "- invalid-pz events: 0\n",
      "+ valid events: 19238\n",
      "validation: True\n",
      "oncell recoil electron: 18628\n",
      "offcell recoil electron: 610\n",
      "offcell to oncell ratio: 0.0327464032639038\n"
     ]
    }
   ],
   "source": [
    "print('ECal Scoring Plane')\n",
    "esp_recoil_e_test = skim_esp_events(esp_leaf_pdgID, esp_leaf_z, esp_leaf_pz)\n",
    "esp_oncell_test = check_projection(esp_leaf_x, esp_leaf_y, esp_leaf_z, esp_leaf_px, esp_leaf_py, esp_leaf_pz, esp_recoil_e_test, cells)"
   ]
  },
  {
   "cell_type": "code",
   "execution_count": 111,
   "id": "a338bedd-0562-42cc-b17b-ff46ed5e67e0",
   "metadata": {},
   "outputs": [
    {
     "name": "stdout",
     "output_type": "stream",
     "text": [
      "Target Scoring Plane\n",
      "total events: 20000\n",
      "- no-electron events: 0\n",
      "- invalid-z events: 7\n",
      "- invalid-pz events: 0\n",
      "+ valid events: 19993\n",
      "validation: True\n",
      "oncell recoil electron: 19959\n",
      "offcell recoil electron: 34\n",
      "offcell to oncell ratio: 0.001703492158925798\n"
     ]
    }
   ],
   "source": [
    "print('Target Scoring Plane')\n",
    "tsp_recoil_e_test = skim_tsp_events(tsp_leaf_pdgID, tsp_leaf_z, tsp_leaf_pz)\n",
    "tsp_oncell_test = check_projection(tsp_leaf_x, tsp_leaf_y, tsp_leaf_z, tsp_leaf_px, tsp_leaf_py, tsp_leaf_pz, tsp_recoil_e_test, cells)"
   ]
  },
  {
   "cell_type": "code",
   "execution_count": null,
   "id": "6b051d31-811c-420b-99b4-ca12d58d82e9",
   "metadata": {},
   "outputs": [],
   "source": []
  },
  {
   "cell_type": "markdown",
   "id": "cecce817-c520-4497-9cee-4abe004ae202",
   "metadata": {
    "jp-MarkdownHeadingCollapsed": true
   },
   "source": [
    "### Test codes"
   ]
  },
  {
   "cell_type": "code",
   "execution_count": null,
   "id": "579f7000-b35e-453b-b391-9f936943dc0e",
   "metadata": {},
   "outputs": [],
   "source": [
    "# obsolete projection checker\n",
    "def obs_check_projection(recoilX, recoilY, recoilZ, recoilPx, recoilPy, recoilPz, recoilElectron, cells):\n",
    "    N = len(recoilElectron)\n",
    "    oncell_cut = np.zeros(N, dtype=bool)\n",
    "    # Loop through all events for projection check.\n",
    "    for i in range(N):\n",
    "        recoil_i = recoilElectron[i]\n",
    "        # Skip invalid events, which contains no recoil electron.\n",
    "        if recoil_i == -1:\n",
    "            continue\n",
    "        # Project to ECal face.\n",
    "        fXY = projection(recoilX[i][recoil_i], recoilY[i][recoil_i], recoilZ[i][recoil_i], \n",
    "                         recoilPx[i][recoil_i], recoilPy[i][recoil_i], recoilPz[i][recoil_i], ecalFaceZ)\n",
    "        # Loop through all cells for oncell check.\n",
    "        for cell in cells:\n",
    "            if dist(cell, fXY) <= cell_radius:\n",
    "                oncell_cut[i] = 1\n",
    "                break\n",
    "\n",
    "    # Print results.\n",
    "    oncell_events = len(oncell_test[np.where(oncell_test==1)])\n",
    "    offcell_events = len(recoilElectron[np.where(recoilElectron != -1)])-oncell_events\n",
    "    off_on_ratio = offcell_events/oncell_events\n",
    "    print('oncell recoil electron: {}'.format(oncell_events))\n",
    "    print('offcell recoil electron: {}'.format(offcell_events))\n",
    "    print('offcell to oncell ratio: {}'.format(off_on_ratio))\n",
    "    \n",
    "    return oncell_cut"
   ]
  },
  {
   "cell_type": "code",
   "execution_count": 14,
   "id": "52cb7c8c-2bb1-4029-8137-023597d957c6",
   "metadata": {},
   "outputs": [],
   "source": [
    "# Apply the fiducial cut\n",
    "f_cut = apply_fiducial_cut(leaf_x, leaf_y, leaf_z, leaf_px, leaf_py, leaf_pz, recoil_electrons, cells)"
   ]
  },
  {
   "cell_type": "code",
   "execution_count": 15,
   "id": "3ad2af86-d48b-414d-988a-0e9f23e71a3c",
   "metadata": {},
   "outputs": [
    {
     "name": "stdout",
     "output_type": "stream",
     "text": [
      "Total Events: 20000\n",
      "Electron Events: 20000\n",
      "Fiducial Events: 19998\n",
      "Non-Fiducial Events: 2\n",
      "Non-Fiducial/Fiducial Events Ratio: 0.0001\n"
     ]
    }
   ],
   "source": [
    "# Calculate and print statistics\n",
    "fiducial_events = np.sum(f_cut)\n",
    "valid_events = np.count_nonzero(recoil_electrons != -1)\n",
    "total_events = len(f_cut)\n",
    "non_fid_events = valid_events-fiducial_events\n",
    "ratio = non_fid_events / fiducial_events\n",
    "print(f\"Total Events: {total_events}\")\n",
    "print(f\"Electron Events: {valid_events}\")\n",
    "print(f\"Fiducial Events: {fiducial_events}\")\n",
    "print(f\"Non-Fiducial Events: {non_fid_events}\")\n",
    "print(f\"Non-Fiducial/Fiducial Events Ratio: {ratio:.4f}\")"
   ]
  },
  {
   "cell_type": "code",
   "execution_count": 16,
   "id": "80bad5a5-2bd2-4e6b-94ad-3c2022eb9a30",
   "metadata": {},
   "outputs": [],
   "source": [
    "# skim_tsp_events_aw(leaf_pdgID, leaf_x, leaf_y, leaf_z, leaf_px, leaf_py, leaf_pz)"
   ]
  },
  {
   "cell_type": "code",
   "execution_count": 17,
   "id": "62b6263d-4bd3-4300-946f-c50b4c8fe82f",
   "metadata": {},
   "outputs": [],
   "source": [
    "def skim_tsp_events_aw(pdgID, x, y, z, px, py, pz):\n",
    "    # Masks for electrons (pdgID == 11)\n",
    "    electron_mask = pdgID == 11\n",
    "\n",
    "    # Max pz among electrons, default to -9999 where no electrons\n",
    "    max_pz = ak.max(ak.where(electron_mask, pz, -9999), axis=1)\n",
    "\n",
    "    # Indices of maximum pz\n",
    "    max_pz_indices = ak.argmax(ak.where(electron_mask, pz, -9999), axis=1)\n",
    "\n",
    "    # Conditions based on max pz\n",
    "    negative_z = ak.any((z[max_pz_indices] < 0) & (pdgID[max_pz_indices] == 11), axis=1)\n",
    "    pz_minus9999 = max_pz == -9999\n",
    "    pz_zero = max_pz == 0\n",
    "\n",
    "    # Valid pz (positive and not -9999 or zero)\n",
    "    valid_pz_mask = (max_pz > 0) & (~pz_minus9999) & (~pz_zero)\n",
    "\n",
    "    # Counters\n",
    "    no_electrons = ak.sum(~ak.any(electron_mask, axis=1))\n",
    "    negative_z_count = ak.sum(negative_z)\n",
    "    pz_minus9999_count = ak.sum(pz_minus9999)\n",
    "    pz_zero_count = ak.sum(pz_zero)\n",
    "    valid_electron_indices = max_pz_indices[valid_pz_mask]\n",
    "\n",
    "    return {\n",
    "        'valid_electron_indices': valid_electron_indices,\n",
    "        'no_electron_count': no_electrons,\n",
    "        'negative_z_count': negative_z_count,\n",
    "        'pz_minus9999_count': pz_minus9999_count,\n",
    "        'pz_zero_count': pz_zero_count\n",
    "    }"
   ]
  },
  {
   "cell_type": "code",
   "execution_count": 18,
   "id": "f467d609-e3f0-43a0-915e-e2f172aaac47",
   "metadata": {},
   "outputs": [],
   "source": [
    "# # Plotting the histogram of fiducial vs non-fiducial events\n",
    "# plt.hist(f_cut.astype(int), bins=[-0.5, 0.5, 1.5], rwidth=0.8) # label=['Non-Fiducial', 'Fiducial'])\n",
    "# plt.xticks([0, 1], ['Non-Fiducial', 'Fiducial'])\n",
    "# plt.xlabel('Event Type')\n",
    "# plt.ylabel('Number of Events')\n",
    "# plt.title('Fiducial vs Non-Fiducial Events')\n",
    "# # plt.legend()\n",
    "# plt.show()"
   ]
  },
  {
   "cell_type": "code",
   "execution_count": 42,
   "id": "0a246806-6e58-45db-9f83-e6fe20529014",
   "metadata": {},
   "outputs": [],
   "source": [
    "# Calculate indices of recoil electron for all events\n",
    "def find_recoil_electron(pdgID, pz):\n",
    "    # Initialize indices as -1 (not found or conditions not met)\n",
    "    r_electron = np.full(len(pdgID), -1, dtype=int)\n",
    "    \n",
    "    # Iterate over each event\n",
    "    for i in range(len(pdgID)):\n",
    "        # Find indices where particle ID is 11 (electron)\n",
    "        electron_indices = np.where(pdgID[i] == 11)[0]\n",
    "        \n",
    "        # If no electrons or all pz values are zero, continue\n",
    "        if len(electron_indices) == 0 or np.all(pz[i][electron_indices] == 0):\n",
    "            continue\n",
    "        \n",
    "        # Find the index with the maximum pz among electrons\n",
    "        # This step filters out all pz == 0 automatically since they can't be the maximum if there's any non-zero pz\n",
    "        max_pz_index = electron_indices[np.argmax(pz[i][electron_indices])]\n",
    "        \n",
    "        # Set the recoil electron index for this event\n",
    "        r_electron[i] = max_pz_index\n",
    "    \n",
    "    return r_electron\n",
    "    \n",
    "# Apply the fiducial cut to the given recoil data.\n",
    "def apply_fiducial_cut(recoilX, recoilY, recoilZ, recoilPx, recoilPy, recoilPz, recoilElectron, cells):\n",
    "    N = len(recoilElectron)\n",
    "    f_cut = np.zeros(N, dtype=bool)\n",
    "    for i in range(N):\n",
    "        fiducial = False\n",
    "        recoil_i = recoilElectron[i]\n",
    "        if recoil_i != -1:\n",
    "            fXY = projection(recoilX[i][recoil_i], recoilY[i][recoil_i], recoilZ[i][recoil_i], \n",
    "                             recoilPx[i][recoil_i], recoilPy[i][recoil_i], recoilPz[i][recoil_i], ecalFaceZ)\n",
    "            # if not all(val == -9999 for val in [recoilX[i][recoil_i], recoilY[i][recoil_i], recoilZ[i][recoil_i], \n",
    "            #                                     recoilPx[i][recoil_i], recoilPy[i][recoil_i], recoilPz[i][recoil_i]]):\n",
    "            for cell in cells:\n",
    "                if dist(cell, fXY) <= cell_radius:\n",
    "                    fiducial = True\n",
    "                    # print(cell)\n",
    "                    break\n",
    "        f_cut[i] = fiducial\n",
    "    return f_cut"
   ]
  },
  {
   "cell_type": "markdown",
   "id": "ac0669d6-e337-4dff-936b-42813cf38ce9",
   "metadata": {},
   "source": [
    "## Recoil Electron"
   ]
  },
  {
   "cell_type": "code",
   "execution_count": 112,
   "id": "a444e173-fbca-4a58-af6c-05575c64941f",
   "metadata": {},
   "outputs": [],
   "source": [
    "# Open the ROOT file and load branches\n",
    "with uproot.open(file_path)['LDMX_Events'] as tree:\n",
    "    veto_leaf_x = tree['recoilPz_'].array(library='np')"
   ]
  },
  {
   "cell_type": "code",
   "execution_count": 113,
   "id": "ac7fd276-0044-49bb-a68c-004b9338bdcd",
   "metadata": {},
   "outputs": [],
   "source": [
    "veto_recoil = np.where(veto_leaf_x == -9999)[0]"
   ]
  },
  {
   "cell_type": "code",
   "execution_count": 114,
   "id": "7b63c72a-e3a0-4182-b0ab-05d8d17189be",
   "metadata": {},
   "outputs": [
    {
     "data": {
      "text/plain": [
       "835"
      ]
     },
     "execution_count": 114,
     "metadata": {},
     "output_type": "execute_result"
    }
   ],
   "source": [
    "len(veto_recoil)"
   ]
  },
  {
   "cell_type": "code",
   "execution_count": 115,
   "id": "7a834271-573f-48ec-bc43-858627d1f8a5",
   "metadata": {},
   "outputs": [
    {
     "data": {
      "text/plain": [
       "-9999.0"
      ]
     },
     "execution_count": 115,
     "metadata": {},
     "output_type": "execute_result"
    }
   ],
   "source": [
    "veto_leaf_x[68]"
   ]
  },
  {
   "cell_type": "markdown",
   "id": "d3a49399-8631-41c8-a336-6bb0ac42db06",
   "metadata": {
    "jp-MarkdownHeadingCollapsed": true
   },
   "source": [
    "## Sth else"
   ]
  },
  {
   "cell_type": "code",
   "execution_count": 23,
   "id": "388f2a0c-1070-4dfc-b406-fd431884d5e4",
   "metadata": {},
   "outputs": [
    {
     "data": {
      "text/plain": [
       "numpy.ndarray"
      ]
     },
     "execution_count": 23,
     "metadata": {},
     "output_type": "execute_result"
    }
   ],
   "source": [
    "type(np.array([[1,2],[2,1],[3,1]]))"
   ]
  },
  {
   "cell_type": "code",
   "execution_count": 24,
   "id": "4c2f2ea4-0f1e-4c9c-b685-8480639e1005",
   "metadata": {},
   "outputs": [
    {
     "data": {
      "text/plain": [
       "array([0, 3])"
      ]
     },
     "execution_count": 24,
     "metadata": {},
     "output_type": "execute_result"
    }
   ],
   "source": [
    "np.where(np.array([11,2,3,11,4,5,-11]) == 11)[0]"
   ]
  },
  {
   "cell_type": "code",
   "execution_count": 25,
   "id": "a9ad7dff-8a53-44e0-a034-93152fb7a783",
   "metadata": {},
   "outputs": [],
   "source": [
    "arr = np.array([1,2,3,4,5,6,7])"
   ]
  },
  {
   "cell_type": "code",
   "execution_count": 26,
   "id": "cd06ca8d-6894-4753-ac60-55069aee7700",
   "metadata": {},
   "outputs": [
    {
     "data": {
      "text/plain": [
       "2"
      ]
     },
     "execution_count": 26,
     "metadata": {},
     "output_type": "execute_result"
    }
   ],
   "source": [
    "np.argmax(arr[[1,2,3]])"
   ]
  },
  {
   "cell_type": "code",
   "execution_count": null,
   "id": "95c8043e-3678-4714-b175-c8e3e0332d1c",
   "metadata": {},
   "outputs": [],
   "source": []
  }
 ],
 "metadata": {
  "kernelspec": {
   "display_name": "Python 3 (ipykernel)",
   "language": "python",
   "name": "python3"
  },
  "language_info": {
   "codemirror_mode": {
    "name": "ipython",
    "version": 3
   },
   "file_extension": ".py",
   "mimetype": "text/x-python",
   "name": "python",
   "nbconvert_exporter": "python",
   "pygments_lexer": "ipython3",
   "version": "3.11.4"
  }
 },
 "nbformat": 4,
 "nbformat_minor": 5
}

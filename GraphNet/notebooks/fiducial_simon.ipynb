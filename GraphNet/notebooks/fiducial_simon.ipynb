{
 "cells": [
  {
   "cell_type": "code",
   "execution_count": 1,
   "id": "fc0b1130-0d7b-4931-bbd6-4a4c12f31c99",
   "metadata": {},
   "outputs": [],
   "source": [
    "import numpy as np\n",
    "import matplotlib.pyplot as plt\n",
    "import uproot"
   ]
  },
  {
   "cell_type": "code",
   "execution_count": 20,
   "id": "1788bbdf-6959-4b3e-9a64-34f1db679f2b",
   "metadata": {},
   "outputs": [],
   "source": [
    "# Constants for the fiducial cut calculations\n",
    "scoringPlaneZ = 239.9985\n",
    "ecalFaceZ = 247.932\n",
    "cell_radius = 5.0\n",
    "\n",
    "def projection(Recoilx, Recoily, Recoilz, RPx, RPy, RPz, HitZ):\n",
    "    \"\"\"Project the recoil coordinates from the scoring plane to the ecal face.\"\"\"\n",
    "    x_final = Recoilx + RPx / RPz * (HitZ - Recoilz) if RPz != 0 else 0\n",
    "    y_final = Recoily + RPy / RPz * (HitZ - Recoilz) if RPy != 0 else 0\n",
    "    return (x_final, y_final)\n",
    "\n",
    "def dist(cell, point):\n",
    "    \"\"\"Calculate the Euclidean distance between two points.\"\"\"\n",
    "    return np.sqrt((cell[0] - point[0])**2 + (cell[1] - point[1])**2)\n",
    "\n",
    "def load_cellMap(filepath):\n",
    "    \"\"\"Load cell map from file.\"\"\"\n",
    "    cellMap = np.loadtxt(filepath, dtype={'names': ('id', 'x', 'y'), 'formats': ('i4', 'f4', 'f4')})\n",
    "    print(f\"Loaded detector info from {filepath}\")\n",
    "    return cellMap\n",
    "\n",
    "def apply_fiducial_cut(recoilX, recoilY, recoilPx, recoilPy, recoilPz, cells):\n",
    "    \"\"\"Apply the fiducial cut to the given recoil data.\"\"\"\n",
    "    N = len(recoilX)\n",
    "    f_cut = np.zeros(N, dtype=bool)\n",
    "    for i in range(N):\n",
    "        fiducial = False\n",
    "        fXY = projection(recoilX[i], recoilY[i], scoringPlaneZ, recoilPx[i], recoilPy[i], recoilPz[i], ecalFaceZ)\n",
    "        if not all(val == -9999 for val in [recoilX[i], recoilY[i], recoilPx[i], recoilPy[i], recoilPz[i]]):\n",
    "            for cell in cells:\n",
    "                if dist(cell, fXY) <= cell_radius:\n",
    "                    fiducial = True\n",
    "                    break\n",
    "        f_cut[i] = fiducial\n",
    "    return f_cut"
   ]
  },
  {
   "cell_type": "code",
   "execution_count": 21,
   "id": "6716e876-8b3c-406b-94a1-8717e138ac0a",
   "metadata": {
    "scrolled": true
   },
   "outputs": [
    {
     "name": "stdout",
     "output_type": "stream",
     "text": [
      "Loaded detector info from /home/j3lly/LDMX-scripts/GraphNet/data/v14/cellmodule.txt\n"
     ]
    }
   ],
   "source": [
    "# Load cell information\n",
    "cells = load_cellMap('/home/aether_zhou_2023/LDMX-scripts/GraphNet/data/v14/cellmodule.txt')\n",
    "\n",
    "# Path to the ROOT file\n",
    "# file_path = '/home/vamitamas/NonFiducialSimu/events_nonfiducial_fullEcal_production.root'\n",
    "file_path = '/home/duncansw/GraphNet_input/v14/8gev/v3_tskim/XCal_total/sig_eval/v14_8gev_0.1_XCal_total_40.root'"
   ]
  },
  {
   "cell_type": "code",
   "execution_count": 31,
   "id": "353c5a81-e175-4fa7-afbf-2587090d974f",
   "metadata": {},
   "outputs": [],
   "source": [
    "# Open the ROOT file and load branches\n",
    "with uproot.open(file_path) as file:\n",
    "    tree = file[\"skimmed_events\"]\n",
    "    recoilX = tree['recoilX_'].array(library='np')\n",
    "    recoilY = tree['recoilY_'].array(library='np')\n",
    "    # recoilZ = tree['z_tsp_'].array(library='np')\n",
    "    recoilPx = tree['recoilPx_'].array(library='np')\n",
    "    recoilPy = tree['recoilPy_'].array(library='np')\n",
    "    recoilPz = tree['recoilPz_'].array(library='np')"
   ]
  },
  {
   "cell_type": "code",
   "execution_count": 32,
   "id": "52cb7c8c-2bb1-4029-8137-023597d957c6",
   "metadata": {},
   "outputs": [],
   "source": [
    "# Apply the fiducial cut\n",
    "f_cut = apply_fiducial_cut(recoilX, recoilY, recoilPx, recoilPy, recoilPz, cells)"
   ]
  },
  {
   "cell_type": "code",
   "execution_count": 33,
   "id": "3ad2af86-d48b-414d-988a-0e9f23e71a3c",
   "metadata": {},
   "outputs": [
    {
     "name": "stdout",
     "output_type": "stream",
     "text": [
      "Total Events: 18440\n",
      "Fiducial Events: 202\n",
      "Fiducial/Total Events Ratio: 0.0110\n"
     ]
    }
   ],
   "source": [
    "# Calculate and print statistics\n",
    "fiducial_events = np.sum(f_cut)\n",
    "total_events = len(f_cut)\n",
    "ratio = fiducial_events / total_events\n",
    "print(f\"Total Events: {total_events}\")\n",
    "print(f\"Fiducial Events: {fiducial_events}\")\n",
    "print(f\"Fiducial/Total Events Ratio: {ratio:.4f}\")"
   ]
  },
  {
   "cell_type": "code",
   "execution_count": 40,
   "id": "f467d609-e3f0-43a0-915e-e2f172aaac47",
   "metadata": {},
   "outputs": [
    {
     "data": {
      "image/png": "[encoded data removed]",
      "text/plain": [
       "<Figure size 640x480 with 1 Axes>"
      ]
     },
     "metadata": {},
     "output_type": "display_data"
    }
   ],
   "source": [
    "# Plotting the histogram of fiducial vs non-fiducial events\n",
    "plt.hist(f_cut.astype(int), bins=[-0.5, 0.5, 1.5], rwidth=0.8) # label=['Non-Fiducial', 'Fiducial'])\n",
    "plt.xticks([0, 1], ['Non-Fiducial', 'Fiducial'])\n",
    "plt.xlabel('Event Type')\n",
    "plt.ylabel('Number of Events')\n",
    "plt.title('Fiducial vs Non-Fiducial Events')\n",
    "# plt.legend()\n",
    "plt.show()"
   ]
  },
  {
   "cell_type": "code",
   "execution_count": null,
   "id": "0a246806-6e58-45db-9f83-e6fe20529014",
   "metadata": {},
   "outputs": [],
   "source": []
  },
  {
   "cell_type": "code",
   "execution_count": null,
   "id": "6316e131-1ef0-4a41-82a9-8301f214807c",
   "metadata": {},
   "outputs": [],
   "source": []
  },
  {
   "cell_type": "code",
   "execution_count": null,
   "id": "a444e173-fbca-4a58-af6c-05575c64941f",
   "metadata": {},
   "outputs": [],
   "source": []
  }
 ],
 "metadata": {
  "kernelspec": {
   "display_name": "Python 3 (ipykernel)",
   "language": "python",
   "name": "python3"
  },
  "language_info": {
   "codemirror_mode": {
    "name": "ipython",
    "version": 3
   },
   "file_extension": ".py",
   "mimetype": "text/x-python",
   "name": "python",
   "nbconvert_exporter": "python",
   "pygments_lexer": "ipython3",
   "version": "3.11.7"
  }
 },
 "nbformat": 4,
 "nbformat_minor": 5
}

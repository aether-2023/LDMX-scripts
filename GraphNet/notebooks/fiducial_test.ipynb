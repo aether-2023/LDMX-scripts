{
 "cells": [
  {
   "cell_type": "markdown",
   "id": "ad91c0cc-355d-44bb-b79a-a60a7dd67a67",
   "metadata": {},
   "source": [
    "## Fiducial cut for one .root file."
   ]
  },
  {
   "cell_type": "code",
   "execution_count": 76,
   "id": "73339c80-b2f7-47d5-af00-0e8df9b4f229",
   "metadata": {},
   "outputs": [],
   "source": [
    "import ROOT as r\n",
    "import numpy as np\n",
    "import matplotlib.pyplot as plt"
   ]
  },
  {
   "cell_type": "code",
   "execution_count": 62,
   "id": "aaf624b1-47d9-46db-9695-1db572af2040",
   "metadata": {},
   "outputs": [],
   "source": [
    "class XCalHitsDataset:\n",
    "    \n",
    "    # Parameters specific to your setup\n",
    "    scoringPlaneZ = 239.9985\n",
    "    ecalFaceZ = 247.932\n",
    "    cell_radius = 5.0\n",
    "    fiducial_mode = True\n",
    "    \n",
    "    def __init__(self, fp, load_range=(0,1)):\n",
    "        super(XCalHitsDataset, self).__init__()\n",
    "        self._load_cellMap()\n",
    "        \n",
    "        self.event_list = []  # == [[mass, filename, i_file], ...]\n",
    "        \n",
    "        tfile = r.TFile(fp)\n",
    "        self.ttree = tfile.Get('skimmed_events')\n",
    "        print(self.ttree)\n",
    "        ttree = self.ttree\n",
    "        print(ttree)\n",
    "        f_events = self.ttree.GetEntries()  # Num events in file\n",
    "        # load_range specifies fraction of file to load from.\n",
    "        start, stop = [int(x * f_events) for x in load_range]\n",
    "        \n",
    "        f_event = start\n",
    "        fiducial_counter = 0\n",
    "        while f_event < stop:\n",
    "            # append fiducial check flags for each loaded event\n",
    "            if self.fiducial_mode and self._compute_fiducial_cut(f_event):\n",
    "                # skip fiducial events\n",
    "                f_event += 1\n",
    "                fiducial_counter += 1\n",
    "            else: \n",
    "                self.event_list.append(f_event)\n",
    "                f_event += 1\n",
    "        print('complete init')\n",
    "        print('calc projs now')\n",
    "        self._nonFid_projs() \n",
    "    \n",
    "    \n",
    "    def _load_cellMap(self, version='v14'):\n",
    "        self._cellMap = {}  # cellMap used for v12 only\n",
    "        if version=='v12':\n",
    "            for i, x, y in np.loadtxt('/home/j3lly/LDMX-scripts/GraphNet/data/%s/cellmodule.txt' % version):\n",
    "                self._cellMap[i] = (x, y)\n",
    "            self._layerZs = np.loadtxt('/home/j3lly/LDMX-scripts/GraphNet/data/%s/layer.txt' % version)\n",
    "        if version=='v13' or version=='v14':\n",
    "            zd = np.loadtxt('/home/j3lly/LDMX-scripts/GraphNet/data/%s/layer.txt' % version)\n",
    "            self._layerZs = {round(zd[i]):i for i in range(len(zd))}\n",
    "        if self.fiducial_mode: # need cellMap for v14 non-fiducial study\n",
    "            for i, x, y in np.loadtxt('/home/j3lly/LDMX-scripts/GraphNet/data/%s/cellmodule.txt' % version):\n",
    "                self._cellMap[i] = (x, y)\n",
    "            self._cells = np.array(list(self._cellMap.values()))\n",
    "        print(\"Loaded geometry info\")\n",
    "        \n",
    "    # Calculate projection for fiducial test\n",
    "    def _projection(self, Recoilx, Recoily, Recoilz, RPx, RPy, RPz, HitZ):\n",
    "        x_final = Recoilx + RPx/RPz*(HitZ - Recoilz) if RPz != 0 else 0\n",
    "        y_final = Recoily + RPy/RPz*(HitZ - Recoilz) if RPy != 0 else 0\n",
    "        return (x_final, y_final)\n",
    "    \n",
    "    # Calculate 2D Euclidean distance between cell center and hit\n",
    "    def _dist(self, cell, fXY):\n",
    "        return np.sqrt((cell[0] - fXY[0])**2 + (cell[1] - fXY[1])**2)\n",
    "\n",
    "    # Fiducial check, True for on-cell and False for off-cell\n",
    "    def _compute_fiducial_cut(self, eventIndex):\n",
    "        # load relevant leaves\n",
    "        ttree = self.ttree\n",
    "        ttree.GetEntry(eventIndex)\n",
    "        pdgID_tsp_leaf = ttree.GetLeaf('pdgID_tsp_')\n",
    "        x_tsp_leaf = ttree.GetLeaf('x_tsp_')\n",
    "        y_tsp_leaf = ttree.GetLeaf('y_tsp_')\n",
    "        z_tsp_leaf = ttree.GetLeaf('z_tsp_')\n",
    "        px_tsp_leaf = ttree.GetLeaf('px_tsp_')\n",
    "        py_tsp_leaf = ttree.GetLeaf('py_tsp_')\n",
    "        pz_tsp_leaf = ttree.GetLeaf('pz_tsp_')\n",
    "        \n",
    "        # define fiducial cut flag, True for on-cell, False for off-cell\n",
    "        fiducial_cut_flag = False #0\n",
    "\n",
    "        # find electrons\n",
    "        tsp_electron = []\n",
    "        for i in range (pdgID_tsp_leaf.GetLen()):\n",
    "            if pdgID_tsp_leaf.GetValue(i) == 11:\n",
    "                # electron found\n",
    "                tsp_electron.append(i)\n",
    "        # in case of no electron presented\n",
    "        if len(tsp_electron) == 0:\n",
    "            print(\"This event ({}) contains no electron, tagged as fiducial.\".format(eventIndex))\n",
    "            fiducial_cut_flag = True\n",
    "            return fiducial_cut_flag\n",
    "        # find the recoil electron\n",
    "        pz_max = tsp_electron[0]\n",
    "        for particle in tsp_electron:\n",
    "            if pz_tsp_leaf.GetValue(particle) > pz_tsp_leaf.GetValue(pz_max):\n",
    "                pz_max = particle\n",
    "\n",
    "        # if not pz_max == 0:\n",
    "        #     print(\"Index of this recoil electron is {}, at event {}\".format(pz_max, eventIndex))\n",
    "        \n",
    "        # compute cut flags\n",
    "        fXY = self._projection(x_tsp_leaf.GetValue(pz_max), y_tsp_leaf.GetValue(pz_max), z_tsp_leaf.GetValue(pz_max), \n",
    "                                px_tsp_leaf.GetValue(pz_max), py_tsp_leaf.GetValue(pz_max), pz_tsp_leaf.GetValue(pz_max), self.ecalFaceZ)\n",
    "        if not all(val == -9999 for val in [x_tsp_leaf.GetValue(pz_max), y_tsp_leaf.GetValue(pz_max), z_tsp_leaf.GetValue(pz_max), \n",
    "                                            px_tsp_leaf.GetValue(pz_max), py_tsp_leaf.GetValue(pz_max), pz_tsp_leaf.GetValue(pz_max)]):\n",
    "            for cell in self._cells:\n",
    "                celldis = self._dist(cell, fXY)\n",
    "                if celldis <= self.cell_radius:\n",
    "                    fiducial_cut_flag = True #1\n",
    "                    break\n",
    "        return fiducial_cut_flag\n",
    "\n",
    "    def get_event_list(self):\n",
    "        return self.event_list\n",
    "\n",
    "    def get_cells(self):\n",
    "        return self._cells\n",
    "\n",
    "    def get_non_fid_projs(self):\n",
    "        return self.non_fid_maps\n",
    "    \n",
    "    def _nonFid_projs(self):\n",
    "        # non fiducial map\n",
    "        self.non_fid_maps = []\n",
    "        \n",
    "        # load relevant leaves\n",
    "        ttree = self.ttree\n",
    "        \n",
    "        # iterate non fiducial events\n",
    "        events = self.event_list\n",
    "        for entry in events:\n",
    "            ttree.GetEntry(entry)\n",
    "            pdgID_tsp_leaf = ttree.GetLeaf('pdgID_tsp_')\n",
    "            x_tsp_leaf = ttree.GetLeaf('x_tsp_')\n",
    "            y_tsp_leaf = ttree.GetLeaf('y_tsp_')\n",
    "            z_tsp_leaf = ttree.GetLeaf('z_tsp_')\n",
    "            px_tsp_leaf = ttree.GetLeaf('px_tsp_')\n",
    "            py_tsp_leaf = ttree.GetLeaf('py_tsp_')\n",
    "            pz_tsp_leaf = ttree.GetLeaf('pz_tsp_')\n",
    "            \n",
    "            # find electrons\n",
    "            tsp_electron = []\n",
    "            for i in range (pdgID_tsp_leaf.GetLen()):\n",
    "                if pdgID_tsp_leaf.GetValue(i) == 11:\n",
    "                    # electron found\n",
    "                    tsp_electron.append(i)\n",
    "            # find the recoil electron\n",
    "            pz_max = tsp_electron[0]\n",
    "            for particle in tsp_electron:\n",
    "                if pz_tsp_leaf.GetValue(particle) > pz_tsp_leaf.GetValue(pz_max):\n",
    "                    pz_max = particle\n",
    "                    \n",
    "            # compute projection\n",
    "            fXY = self._projection(x_tsp_leaf.GetValue(pz_max), y_tsp_leaf.GetValue(pz_max), z_tsp_leaf.GetValue(pz_max), \n",
    "                                    px_tsp_leaf.GetValue(pz_max), py_tsp_leaf.GetValue(pz_max), pz_tsp_leaf.GetValue(pz_max), self.ecalFaceZ)\n",
    "            self.non_fid_maps.append(fXY)\n",
    "\n",
    "        # return non_fid_maps\n"
   ]
  },
  {
   "cell_type": "code",
   "execution_count": 63,
   "id": "876ce88a-d434-4941-9b6e-33b9ed4a152b",
   "metadata": {},
   "outputs": [],
   "source": [
    "# Path to your .root file\n",
    "# filename = \"/home/duncansw/GraphNet_input/v14/8gev/v3_tskim/XCal_total/v14_8gev_0.1_XCal_total_4.root\"\n",
    "filename = \"/mnt/d/Repositories/rootfiles/Processed8GeV/v14_8gev_0.1_XCal_total_40.root\""
   ]
  },
  {
   "cell_type": "code",
   "execution_count": 64,
   "id": "7c9e39b8-99d9-44fc-bfeb-380ad2b5e88d",
   "metadata": {},
   "outputs": [
    {
     "name": "stdout",
     "output_type": "stream",
     "text": [
      "Loaded geometry info\n",
      "Name: skimmed_events Title: skimmed ldmx event data\n",
      "Name: skimmed_events Title: skimmed ldmx event data\n",
      "This event (413) contains no electron, tagged as fiducial.\n",
      "This event (615) contains no electron, tagged as fiducial.\n",
      "This event (2860) contains no electron, tagged as fiducial.\n",
      "This event (3949) contains no electron, tagged as fiducial.\n",
      "This event (13018) contains no electron, tagged as fiducial.\n",
      "This event (14730) contains no electron, tagged as fiducial.\n",
      "This event (16299) contains no electron, tagged as fiducial.\n",
      "complete init\n",
      "calc projs now\n"
     ]
    }
   ],
   "source": [
    "# Create an instance of your class and run the test\n",
    "dataset = XCalHitsDataset(filename)"
   ]
  },
  {
   "cell_type": "code",
   "execution_count": 65,
   "id": "b08e1e66-7b34-4d5e-97ca-46a80463d82c",
   "metadata": {},
   "outputs": [
    {
     "name": "stdout",
     "output_type": "stream",
     "text": [
      "38\n"
     ]
    }
   ],
   "source": [
    "e_list = dataset.get_event_list()\n",
    "print(len(e_list))"
   ]
  },
  {
   "cell_type": "code",
   "execution_count": 66,
   "id": "e552990f-727f-4613-b1a3-f6e034d720c8",
   "metadata": {},
   "outputs": [],
   "source": [
    "# ttree = dataset.get_ttree()\n",
    "# print(ttree)"
   ]
  },
  {
   "cell_type": "code",
   "execution_count": 67,
   "id": "be5b2bb8-82a8-4151-bef5-bf721caf9a38",
   "metadata": {},
   "outputs": [],
   "source": [
    "ecal_cells = dataset.get_cells()\n",
    "non_fid_map = dataset.get_non_fid_projs()"
   ]
  },
  {
   "cell_type": "code",
   "execution_count": 69,
   "id": "e8ae382a-d73f-44f5-8513-97128937ff62",
   "metadata": {},
   "outputs": [
    {
     "data": {
      "text/plain": [
       "38"
      ]
     },
     "execution_count": 69,
     "metadata": {},
     "output_type": "execute_result"
    }
   ],
   "source": [
    "len(non_fid_map)"
   ]
  },
  {
   "cell_type": "code",
   "execution_count": 84,
   "id": "6617ba4c-76fc-45f7-be10-3d5b1f33c2a4",
   "metadata": {},
   "outputs": [
    {
     "data": {
      "image/png": "[encoded data removed]",
      "text/plain": [
       "<Figure size 1600x1600 with 1 Axes>"
      ]
     },
     "metadata": {},
     "output_type": "display_data"
    }
   ],
   "source": [
    "plt.figure(figsize=(8,8), dpi = 200)\n",
    "\n",
    "positions1 = ecal_cells\n",
    "positions2 = non_fid_map\n",
    "\n",
    "x1, y1 = zip(*positions1)\n",
    "x2, y2 = zip(*positions2)\n",
    "\n",
    "plt.scatter(x1, y1, color='tab:blue', marker='o', label='ECal Face')\n",
    "plt.scatter(x2, y2, color='tab:orange', marker='x', label='Non Fiducial Recoil Electron')\n",
    "\n",
    "plt.tick_params(bottom=True,top=True,left=True,right=True,direction='in')\n",
    "plt.title('Non Fiducial Projections on ECal Face Plane')\n",
    "plt.xlabel('X [mm]')\n",
    "plt.ylabel('Y [mm]')\n",
    "plt.legend()\n",
    "plt.grid(False)\n",
    "plt.show()\n"
   ]
  },
  {
   "cell_type": "code",
   "execution_count": null,
   "id": "cadafe23-09ee-453d-ae6a-9aa25d3fd150",
   "metadata": {},
   "outputs": [],
   "source": []
  },
  {
   "cell_type": "code",
   "execution_count": 16,
   "id": "1d6041a8-dead-4792-9a1b-1d151fd5162e",
   "metadata": {},
   "outputs": [],
   "source": [
    "# # Open the ROOT file and load branches\n",
    "# with uproot.open(file_path) as file:\n",
    "#     tree = file[\"skimmed_events\"]\n",
    "#     recoilX = tree['recoilX_'].array(library='np')\n",
    "#     recoilY = tree['recoilY_'].array(library='np')\n",
    "#     recoilZ = tree['z_tsp_'].array(library='np')\n",
    "#     recoilPx = tree['recoilPx_'].array(library='np')\n",
    "#     recoilPy = tree['recoilPy_'].array(library='np')\n",
    "#     recoilPz = tree['recoilPz_'].array(library='np')"
   ]
  },
  {
   "cell_type": "code",
   "execution_count": null,
   "id": "b93ad08d-e0f3-4110-a3a2-203494797100",
   "metadata": {},
   "outputs": [],
   "source": []
  },
  {
   "cell_type": "code",
   "execution_count": null,
   "id": "4f6573ab-1199-4cc5-abfd-63c2e03afe46",
   "metadata": {},
   "outputs": [],
   "source": []
  },
  {
   "cell_type": "code",
   "execution_count": 33,
   "id": "1b087f9f-8cb7-40c8-af8c-99aa82446064",
   "metadata": {},
   "outputs": [],
   "source": [
    "# oncell = 0\n",
    "# offcell = 0\n",
    "# fid_events = []\n",
    "# non_fid_events = []\n",
    "# for index in range(0,len(f_cut)):\n",
    "#     if f_cut[index] == 1:\n",
    "#         oncell += 1\n",
    "#         fid_events.append(index)\n",
    "#     elif f_cut[index] == 0:\n",
    "#         offcell += 1\n",
    "#         non_fid_events.append(index)\n",
    "# print('oncell: {}\\noffcell: {}'.format(oncell,offcell))"
   ]
  },
  {
   "cell_type": "code",
   "execution_count": 34,
   "id": "7ae8c007-c626-468d-9759-389703c83385",
   "metadata": {},
   "outputs": [],
   "source": [
    "# non_fid_events[10]"
   ]
  },
  {
   "cell_type": "markdown",
   "id": "9d5c98aa-548f-4d54-bc85-20de373c67da",
   "metadata": {},
   "source": [
    "## test"
   ]
  },
  {
   "cell_type": "code",
   "execution_count": 28,
   "id": "8fd75d12-7b02-43ed-8551-e91cd3efea42",
   "metadata": {},
   "outputs": [],
   "source": [
    "tfile = r.TFile(filename)\n",
    "ttree = tfile.Get('skimmed_events')"
   ]
  },
  {
   "cell_type": "code",
   "execution_count": 29,
   "id": "af159039-27fc-45b0-8615-74d68adc0fb4",
   "metadata": {},
   "outputs": [
    {
     "data": {
      "text/plain": [
       "18440"
      ]
     },
     "execution_count": 29,
     "metadata": {},
     "output_type": "execute_result"
    }
   ],
   "source": [
    "ttree.GetEntries() # total event number"
   ]
  },
  {
   "cell_type": "code",
   "execution_count": 33,
   "id": "98cbbc68-da5f-4ef4-8a3e-ee244f2309ef",
   "metadata": {},
   "outputs": [
    {
     "name": "stdout",
     "output_type": "stream",
     "text": [
      "======> EVENT:1\n",
      " passesVeto_     = 1\n",
      " nReadoutHits_   = 0\n",
      " summedDet_      = 0\n",
      " summedTightIso_ = 0\n",
      " discValue_      = 0.999975\n",
      " recoilX_        = -9999\n",
      " recoilY_        = -9999\n",
      " recoilPx_       = -9999\n",
      " recoilPy_       = -9999\n",
      " recoilPz_       = -9999\n",
      " pass_           = 1\n",
      " nSPHits         = 4\n",
      " nTSPHits        = 9\n",
      " nRecHits        = 0\n",
      " nHRecHits       = 0\n",
      " maxPE           = 0\n",
      " TargetSPRecoilE_pt = 5.38561\n",
      " pdgID_          = 22, \n",
      "                  22, 622, 622\n",
      " trackID_        = 14, \n",
      "                  14, 11, 11\n",
      " layerID_        = 0, \n",
      "                  0, 0, 0\n",
      " x_              = 231.45, \n",
      "                  440.341, -8.09162, -8.50476\n",
      " y_              = -150.494, \n",
      "                  -251.294, -10.2028, -10.5826\n",
      " z_              = 239.999, \n",
      "                  447.456, 239.999, 840\n",
      " px_             = 2.31003, \n",
      "                  2.31003, -5.50119, -5.50119\n",
      " py_             = -1.1147, \n",
      "                  -1.1147, -5.058, -5.058\n",
      " pz_             = 2.29417, \n",
      "                  2.29417, 7989.38, 7989.38\n",
      " energy_         = 3.44123, \n",
      "                  3.44123, 7990.01, 7990.01\n",
      " pdgID_tsp_      = 11, \n",
      "                  11, 11, 11, 11, 11, \n",
      "                  11, 22, 622\n",
      " layerID_tsp_    = 0, \n",
      "                  0, 0, 0, 0, 0, \n",
      "                  0, 0, 0\n",
      " x_tsp_          = -7.9263, \n",
      "                  -7.84736, -24.0918, -23.5818, -10.3816, 73.5364, \n",
      "                  76.6184, -10.0299, -7.92649\n",
      " y_tsp_          = -10.0507, \n",
      "                  -10.1331, -30.6097, -30.7328, -33.8124, -126.836, \n",
      "                  -129.135, -33.9686, -10.0509\n",
      " z_tsp_          = -0.1767, \n",
      "                  0.1767, 0.1767, -0.1767, -0.1767, 0.1767, \n",
      "                  -0.1767, 0.1767, 0.1767\n",
      " px_tsp_         = 0.71399, \n",
      "                  4.34986, 4.10229, 4.24937, 3.58378, 0.424942, \n",
      "                  0.424938, 2.31003, -5.50119\n",
      " py_tsp_         = -7.62634, \n",
      "                  -3.17546, -1.00396, -1.01389, 0.459782, -0.316981, \n",
      "                  -0.316986, -1.1147, -5.058\n",
      " pz_tsp_         = 7996.68, \n",
      "                  4.09607, -3.00738, -2.79212, 1.97192, -0.0487262, \n",
      "                  -0.0487322, 2.29417, 7989.38\n",
      " energy_tsp_     = 7996.68, \n",
      "                  6.78555, 5.20982, 5.20982, 4.14783, 0.737934, \n",
      "                  0.737934, 3.44123, 7990.01\n"
     ]
    }
   ],
   "source": [
    "ttree.GetEntry(1)\n",
    "ttree.Show()"
   ]
  },
  {
   "cell_type": "code",
   "execution_count": 31,
   "id": "2461bb15-02a8-4a26-b27b-c0655fef64c1",
   "metadata": {},
   "outputs": [],
   "source": [
    "pz_tsp_leaf = ttree.GetLeaf('pz_tsp_')\n",
    "pdgID_tsp_leaf = ttree.GetLeaf('pdgID_tsp_')"
   ]
  },
  {
   "cell_type": "code",
   "execution_count": 34,
   "id": "7ef94998-2dac-4013-9e30-fba62a021d69",
   "metadata": {},
   "outputs": [
    {
     "data": {
      "text/plain": [
       "7996.6806640625"
      ]
     },
     "execution_count": 34,
     "metadata": {},
     "output_type": "execute_result"
    }
   ],
   "source": [
    "pz_tsp_leaf.GetValue()"
   ]
  },
  {
   "cell_type": "code",
   "execution_count": 81,
   "id": "d2cb7779-9092-4f7d-9d65-1258182af9c7",
   "metadata": {
    "scrolled": true
   },
   "outputs": [
    {
     "name": "stdout",
     "output_type": "stream",
     "text": [
      "11.0\n",
      "11.0\n",
      "11.0\n",
      "11.0\n",
      "11.0\n",
      "11.0\n",
      "11.0\n",
      "11.0\n",
      "11.0\n",
      "11.0\n",
      "11.0\n",
      "11.0\n",
      "11.0\n",
      "11.0\n",
      "11.0\n",
      "11.0\n",
      "11.0\n",
      "11.0\n",
      "11.0\n",
      "11.0\n",
      "11.0\n",
      "11.0\n",
      "11.0\n",
      "11.0\n",
      "11.0\n",
      "11.0\n",
      "11.0\n",
      "11.0\n",
      "11.0\n",
      "11.0\n",
      "11.0\n",
      "11.0\n",
      "11.0\n",
      "11.0\n",
      "11.0\n",
      "11.0\n",
      "11.0\n",
      "11.0\n",
      "11.0\n",
      "11.0\n",
      "22.0\n",
      "22.0\n",
      "-11.0\n",
      "-11.0\n",
      "622.0\n",
      "622.0\n",
      "11.0\n",
      "11.0\n",
      "11.0\n",
      "11.0\n",
      "11.0\n",
      "11.0\n",
      "11.0\n",
      "11.0\n",
      "11.0\n",
      "11.0\n"
     ]
    }
   ],
   "source": [
    "for i in range(0,pdgID_tsp_leaf.GetLen()):\n",
    "    print(pdgID_tsp_leaf.GetValue(i))"
   ]
  },
  {
   "cell_type": "code",
   "execution_count": null,
   "id": "ed969364-8248-40ed-999c-c4e15a0fe24b",
   "metadata": {},
   "outputs": [],
   "source": []
  }
 ],
 "metadata": {
  "kernelspec": {
   "display_name": "Python 3 (ipykernel)",
   "language": "python",
   "name": "python3"
  },
  "language_info": {
   "codemirror_mode": {
    "name": "ipython",
    "version": 3
   },
   "file_extension": ".py",
   "mimetype": "text/x-python",
   "name": "python",
   "nbconvert_exporter": "python",
   "pygments_lexer": "ipython3",
   "version": "3.11.7"
  }
 },
 "nbformat": 4,
 "nbformat_minor": 5
}

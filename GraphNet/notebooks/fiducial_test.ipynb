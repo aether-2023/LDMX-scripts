{
 "cells": [
  {
   "cell_type": "markdown",
   "id": "ad91c0cc-355d-44bb-b79a-a60a7dd67a67",
   "metadata": {},
   "source": [
    "## Fiducial cut for one .root file."
   ]
  },
  {
   "cell_type": "code",
   "execution_count": 1,
   "id": "73339c80-b2f7-47d5-af00-0e8df9b4f229",
   "metadata": {},
   "outputs": [
    {
     "name": "stdout",
     "output_type": "stream",
     "text": [
      "Welcome to JupyROOT 6.28/00\n"
     ]
    }
   ],
   "source": [
    "import ROOT\n",
    "import numpy as np"
   ]
  },
  {
   "cell_type": "code",
   "execution_count": 12,
   "id": "aaf624b1-47d9-46db-9695-1db572af2040",
   "metadata": {},
   "outputs": [],
   "source": [
    "class XCalHitsDataset:\n",
    "    \n",
    "    # Parameters specific to your setup\n",
    "    scoringPlaneZ = 239.9985\n",
    "    ecalFaceZ = 247.932\n",
    "    cell_radius = 5.0\n",
    "    fiducial_mode = True\n",
    "    \n",
    "    def __init__(self, filename):\n",
    "        self.filename = filename\n",
    "        self.tfile = ROOT.TFile(self.filename)\n",
    "        self.ttree = self.tfile.Get('skimmed_events')\n",
    "        self._load_cellMap()\n",
    "        \n",
    "    def _load_cellMap(self, version='v14'):\n",
    "        self._cellMap = {}\n",
    "        if version=='v13' or version=='v14':\n",
    "            zd = np.loadtxt('/home/aether_zhou_2023/LDMX-scripts/GraphNet/data/%s/layer.txt' % version)\n",
    "            # relative directory changed to absolute due to error:\n",
    "            # FileNotFoundError: data/v14/layer.txt not found.\n",
    "            self._layerZs = {round(zd[i]):i for i in range(len(zd))}\n",
    "        if self.fiducial_mode:\n",
    "            for i, x, y in np.loadtxt('/home/aether_zhou_2023/LDMX-scripts/GraphNet/data/%s/cellmodule.txt' % version):\n",
    "                self._cellMap[i] = (x, y)\n",
    "            self._cells = np.array(list(self._cellMap.values()))\n",
    "        print(\"Loaded geometry info\")\n",
    "\n",
    "    # Calculate projection for fiducial test\n",
    "    def projection(self, Recoilx, Recoily, Recoilz, RPx, RPy, RPz, HitZ):\n",
    "        x_final = Recoilx + RPx/RPz*(HitZ - Recoilz) if RPz != 0 else 0\n",
    "        y_final = Recoily + RPy/RPz*(HitZ - Recoilz) if RPy != 0 else 0\n",
    "        return (x_final, y_final)\n",
    "\n",
    "    # Calculate 2D Euclidean distance between cell center and hit\n",
    "    def dist(self, cell, fXY):\n",
    "        return np.sqrt((cell[0] - fXY[0])**2 + (cell[1] - fXY[1])**2)\n",
    "    \n",
    "    def compute_fiducial_cut(self):\n",
    "        # load relevant leaves\n",
    "        recoilX_leaf = self.ttree.GetLeaf('recoilX_')\n",
    "        recoilY_leaf = self.ttree.GetLeaf('recoilY_')\n",
    "        recoilPx_leaf = self.ttree.GetLeaf('recoilPx_')\n",
    "        recoilPy_leaf = self.ttree.GetLeaf('recoilPy_')\n",
    "        recoilPz_leaf = self.ttree.GetLeaf('recoilPz_')\n",
    "\n",
    "        # compute cut array\n",
    "        N = self.ttree.GetEntries()\n",
    "        f_cut = np.zeros(N, dtype=bool)\n",
    "        for i in range(N):\n",
    "            self.ttree.GetEntry(i)\n",
    "            fiducial = False #0\n",
    "            fXY = self.projection(recoilX_leaf.GetValue(), recoilY_leaf.GetValue(), self.scoringPlaneZ, \n",
    "                                  recoilPx_leaf.GetValue(), recoilPy_leaf.GetValue(), recoilPz_leaf.GetValue(), self.ecalFaceZ)\n",
    "            if not all(val == -9999 for val in [recoilX_leaf.GetValue(), recoilY_leaf.GetValue(), \n",
    "                                                recoilPx_leaf.GetValue(), recoilPy_leaf.GetValue(), recoilPz_leaf.GetValue()]):\n",
    "                for cell in self._cells:\n",
    "                    celldis = self.dist(cell, fXY)\n",
    "                    if celldis <= self.cell_radius:\n",
    "                        fiducial = True #1\n",
    "                        break\n",
    "            f_cut[i] = fiducial\n",
    "        print(\"Fiducial cut computation completed.\")\n",
    "        return f_cut\n",
    "        "
   ]
  },
  {
   "cell_type": "code",
   "execution_count": 13,
   "id": "876ce88a-d434-4941-9b6e-33b9ed4a152b",
   "metadata": {},
   "outputs": [],
   "source": [
    "# Path to your .root file\n",
    "filename = \"/home/duncansw/GraphNet_input/v14/8gev/v3_tskim/XCal_total/v14_8gev_0.1_XCal_total_4.root\""
   ]
  },
  {
   "cell_type": "code",
   "execution_count": 14,
   "id": "7c9e39b8-99d9-44fc-bfeb-380ad2b5e88d",
   "metadata": {},
   "outputs": [
    {
     "name": "stdout",
     "output_type": "stream",
     "text": [
      "Loaded geometry info\n",
      "Fiducial cut computation completed.\n",
      "Fiducial cut flags: 18461\n"
     ]
    }
   ],
   "source": [
    "# Create an instance of your class and run the test\n",
    "dataset = XCalHitsDataset(filename)\n",
    "f_cut = dataset.compute_fiducial_cut()\n",
    "print(f\"Fiducial cut flags: {len(f_cut)}\")"
   ]
  },
  {
   "cell_type": "code",
   "execution_count": 15,
   "id": "1b087f9f-8cb7-40c8-af8c-99aa82446064",
   "metadata": {},
   "outputs": [
    {
     "name": "stdout",
     "output_type": "stream",
     "text": [
      "oncell: 11955\n",
      "offcell: 6506\n"
     ]
    }
   ],
   "source": [
    "oncell = 0\n",
    "offcell = 0\n",
    "fid_events = []\n",
    "non_fid_events = []\n",
    "for index in range(0,len(f_cut)):\n",
    "    if f_cut[index] == 1:\n",
    "        oncell += 1\n",
    "        fid_events.append(index)\n",
    "    elif f_cut[index] == 0:\n",
    "        offcell += 1\n",
    "        non_fid_events.append(index)\n",
    "print('oncell: {}\\noffcell: {}'.format(oncell,offcell))"
   ]
  },
  {
   "cell_type": "code",
   "execution_count": 16,
   "id": "7ae8c007-c626-468d-9759-389703c83385",
   "metadata": {},
   "outputs": [
    {
     "data": {
      "text/plain": [
       "33"
      ]
     },
     "execution_count": 16,
     "metadata": {},
     "output_type": "execute_result"
    }
   ],
   "source": [
    "non_fid_events[10]"
   ]
  },
  {
   "cell_type": "markdown",
   "id": "9d5c98aa-548f-4d54-bc85-20de373c67da",
   "metadata": {},
   "source": [
    "## test"
   ]
  },
  {
   "cell_type": "code",
   "execution_count": 7,
   "id": "8fd75d12-7b02-43ed-8551-e91cd3efea42",
   "metadata": {},
   "outputs": [],
   "source": [
    "tfile = ROOT.TFile(filename)\n",
    "ttree = tfile.Get('skimmed_events')\n",
    "recoilX_leaf = ttree.GetLeaf('recoilX_')"
   ]
  },
  {
   "cell_type": "code",
   "execution_count": 8,
   "id": "af159039-27fc-45b0-8615-74d68adc0fb4",
   "metadata": {},
   "outputs": [
    {
     "data": {
      "text/plain": [
       "18461"
      ]
     },
     "execution_count": 8,
     "metadata": {},
     "output_type": "execute_result"
    }
   ],
   "source": [
    "ttree.GetEntries() # total event number"
   ]
  },
  {
   "cell_type": "code",
   "execution_count": 9,
   "id": "98cbbc68-da5f-4ef4-8a3e-ee244f2309ef",
   "metadata": {},
   "outputs": [
    {
     "data": {
      "text/plain": [
       "-16.1285400390625"
      ]
     },
     "execution_count": 9,
     "metadata": {},
     "output_type": "execute_result"
    }
   ],
   "source": [
    "ttree.GetEntry(2)\n",
    "# ttree.Show()\n",
    "recoilX_leaf.GetValue()"
   ]
  },
  {
   "cell_type": "code",
   "execution_count": 10,
   "id": "2461bb15-02a8-4a26-b27b-c0655fef64c1",
   "metadata": {},
   "outputs": [
    {
     "data": {
      "text/plain": [
       "346890960896.0"
      ]
     },
     "execution_count": 10,
     "metadata": {},
     "output_type": "execute_result"
    }
   ],
   "source": [
    "recoilX_leaf.GetValue(2)"
   ]
  },
  {
   "cell_type": "code",
   "execution_count": null,
   "id": "7ef94998-2dac-4013-9e30-fba62a021d69",
   "metadata": {},
   "outputs": [],
   "source": []
  }
 ],
 "metadata": {
  "kernelspec": {
   "display_name": "Python 3 (ipykernel)",
   "language": "python",
   "name": "python3"
  },
  "language_info": {
   "codemirror_mode": {
    "name": "ipython",
    "version": 3
   },
   "file_extension": ".py",
   "mimetype": "text/x-python",
   "name": "python",
   "nbconvert_exporter": "python",
   "pygments_lexer": "ipython3",
   "version": "3.11.4"
  }
 },
 "nbformat": 4,
 "nbformat_minor": 5
}
